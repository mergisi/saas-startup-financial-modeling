{
 "cells": [
  {
   "cell_type": "markdown",
   "metadata": {},
   "source": [
    "# Cohort Analysis for Customer Retention\n",
    "\n",
    "## Introduction\n",
    "\n",
    "Cohort analysis helps in understanding how different groups of customers behave over time."
   ]
  },
  {
   "cell_type": "markdown",
   "metadata": {},
   "source": [
    "## Import Libraries"
   ]
  },
  {
   "cell_type": "code",
   "execution_count": null,
   "metadata": {},
   "outputs": [],
   "source": [
    "import pandas as pd\n",
    "import numpy as np\n",
    "import seaborn as sns\n",
    "import matplotlib.pyplot as plt\n",
    "%matplotlib inline"
   ]
  },
  {
   "cell_type": "markdown",
   "metadata": {},
   "source": [
    "## Load Data"
   ]
  },
  {
   "cell_type": "code",
   "execution_count": null,
   "metadata": {},
   "outputs": [],
   "source": [
    "# Assuming 'customer_data.csv' contains customer sign-up dates and churn dates\n",
    "customer_df = pd.read_csv('../data/customer_data.csv', parse_dates=['SignUpDate', 'ChurnDate'])\n",
    "customer_df.head()"
   ]
  },
  {
   "cell_type": "markdown",
   "metadata": {},
   "source": [
    "## Create Cohorts"
   ]
  },
  {
   "cell_type": "code",
   "execution_count": null,
   "metadata": {},
   "outputs": [],
   "source": [
    "customer_df['CohortMonth'] = customer_df['SignUpDate'].dt.to_period('M')\n",
    "customer_df['ChurnMonth'] = customer_df['ChurnDate'].dt.to_period('M')"
   ]
  },
  {
   "cell_type": "markdown",
   "metadata": {},
   "source": [
    "## Calculate Retention"
   ]
  },
  {
   "cell_type": "code",
   "execution_count": null,
   "metadata": {},
   "outputs": [],
   "source": [
    "# Build a cohort table\n",
    "cohort_data = customer_df.groupby(['CohortMonth', 'ChurnMonth']).size().unstack(fill_value=0)\n",
    "\n",
    "# Calculate retention rates\n",
    "cohort_size = cohort_data.iloc[:,0]\n",
    "retention = cohort_data.divide(cohort_size, axis=0)"
   ]
  },
  {
   "cell_type": "markdown",
   "metadata": {},
   "source": [
    "## Visualize Cohort Retention"
   ]
  },
  {
   "cell_type": "code",
   "execution_count": null,
   "metadata": {},
   "outputs": [],
   "source": [
    "plt.figure(figsize=(12, 8))\n",
    "sns.heatmap(retention, annot=True, fmt=\".0%\", cmap='YlGnBu')\n",
    "plt.title('Cohort Analysis - Retention Rates')\n",
    "plt.xlabel('Churn Month')\n",
    "plt.ylabel('Cohort Month')\n",
    "plt.show()"
   ]
  },
  {
   "cell_type": "markdown",
   "metadata": {},
   "source": [
    "## Conclusion\n",
    "\n",
    "Cohort analysis provides insights into customer retention over time, enabling better decision-making for customer success initiatives."
   ]
  }
 ],
 "metadata": {
  "kernelspec": {
   "display_name": "Python 3",
   "language": "python",
   "name": "python3"
  },
  "language_info": {
   "codemirror_mode": {
    "name": "ipython",
    "version": 3
   },
   "file_extension": ".py",
   "mimetype": "text/x-python",
   "name": "python",
   "nbconvert_exporter": "python",
   "pygments_lexer": "ipython3",
   "version": "3.8.5"
  }
 },
 "nbformat": 4,
 "nbformat_minor": 4
}
