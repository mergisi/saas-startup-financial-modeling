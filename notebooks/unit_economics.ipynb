{
 "cells": [
  {
   "cell_type": "markdown",
   "metadata": {},
   "source": [
    "# Calculating Unit Economics for a SaaS Startup\n",
    "\n",
    "## Introduction\n",
    "\n",
    "Understanding unit economics like CAC and LTV is vital for assessing the viability of the startup."
   ]
  },
  {
   "cell_type": "markdown",
   "metadata": {},
   "source": [
    "## Import Libraries"
   ]
  },
  {
   "cell_type": "code",
   "execution_count": null,
   "metadata": {},
   "outputs": [],
   "source": [
    "import pandas as pd\n",
    "import numpy as np\n",
    "import matplotlib.pyplot as plt\n",
    "%matplotlib inline"
   ]
  },
  {
   "cell_type": "markdown",
   "metadata": {},
   "source": [
    "## Load Data"
   ]
  },
  {
   "cell_type": "code",
   "execution_count": null,
   "metadata": {},
   "outputs": [],
   "source": [
    "df = pd.read_csv('../data/saas_metrics.csv', parse_dates=['Date'])\n",
    "df.head()"
   ]
  },
  {
   "cell_type": "markdown",
   "metadata": {},
   "source": [
    "## Calculate Customer Acquisition Cost (CAC)"
   ]
  },
  {
   "cell_type": "code",
   "execution_count": null,
   "metadata": {},
   "outputs": [],
   "source": [
    "# Assume 'Marketing_Expenses' column exists in df\n",
    "if 'Marketing_Expenses' in df.columns:\n",
    "    df['CAC'] = df['Marketing_Expenses'] / df['New_Customers']\n",
    "else:\n",
    "    df['CAC'] = np.nan  # If not, set CAC to NaN"
   ]
  },
  {
   "cell_type": "markdown",
   "metadata": {},
   "source": [
    "## Calculate Lifetime Value (LTV)"
   ]
  },
  {
   "cell_type": "code",
   "execution_count": null,
   "metadata": {},
   "outputs": [],
   "source": [
    "# Average Revenue Per User (ARPU)\n",
    "df['ARPU'] = df['Revenue'] / df['Total_Customers']\n",
    "\n",
    "# Average Customer Lifespan\n",
    "df['Avg_Lifespan'] = 1 / df['Churn_Rate'].replace(0, np.nan)\n",
    "\n",
    "# LTV\n",
    "df['LTV'] = df['ARPU'] * df['Avg_Lifespan']"
   ]
  },
  {
   "cell_type": "markdown",
   "metadata": {},
   "source": [
    "## Visualize CAC vs. LTV"
   ]
  },
  {
   "cell_type": "code",
   "execution_count": null,
   "metadata": {},
   "outputs": [],
   "source": [
    "plt.figure(figsize=(12, 6))\n",
    "plt.plot(df['Date'], df['CAC'], label='CAC', marker='o')\n",
    "plt.plot(df['Date'], df['LTV'], label='LTV', marker='o')\n",
    "plt.title('CAC vs. LTV Over Time')\n",
    "plt.xlabel('Date')\n",
    "plt.ylabel('Amount ($)')\n",
    "plt.legend()\n",
    "plt.grid(True)\n",
    "plt.show()"
   ]
  },
  {
   "cell_type": "markdown",
   "metadata": {},
   "source": [
    "## Conclusion\n",
    "\n",
    "By analyzing unit economics, the startup can make informed decisions on marketing spend and customer acquisition strategies."
   ]
  }
 ],
 "metadata": {
  "kernelspec": {
   "display_name": "Python 3",
   "language": "python",
   "name": "python3"
  },
  "language_info": {
   "codemirror_mode": {
    "name": "ipython",
    "version": 3
   },
   "file_extension": ".py",
   "mimetype": "text/x-python",
   "name": "python",
   "nbconvert_exporter": "python",
   "pygments_lexer": "ipython3",
   "version": "3.8.5"
  }
 },
 "nbformat": 4,
 "nbformat_minor": 4
}
